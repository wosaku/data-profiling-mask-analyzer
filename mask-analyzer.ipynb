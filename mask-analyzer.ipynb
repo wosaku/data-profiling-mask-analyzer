{
 "cells": [
  {
   "cell_type": "code",
   "execution_count": null,
   "metadata": {
    "collapsed": true
   },
   "outputs": [],
   "source": [
    "def mask_profile(series):\n",
    "    '''\n",
    "    Make a mask profile of a field by converting the ascii value of the character as below.\n",
    "    a to z --> returns \"l\" for letter\n",
    "    A to Z --> returns \"L\" for Letter\n",
    "    0 to 9 --> returns \"D\" for Digit\n",
    "    'space' --> returns \"s\" for space\n",
    "    Special characters --> keep original\n",
    "    Requirement: pandas\n",
    "    Input: pandas Series\n",
    "    Created by Wilian Osaku\n",
    "    '''    \n",
    "    def getMask(field):\n",
    "        mask = ''\n",
    "        if str(field) == 'nan':\n",
    "            mask = '-null-'\n",
    "        else:    \n",
    "            for character in str(field):\n",
    "                if 65 <= ord(character) <= 90: # ascii 65 to 90 are Capital letters\n",
    "                    mask = mask + 'L'                \n",
    "                elif 97 <= ord(character) <= 122: #ascii 97 to 122 are lower case letters\n",
    "                    mask = mask + 'l'\n",
    "                elif 48 <= ord(character) <= 57: #ascii 48 to 57 are digits\n",
    "                    mask = mask + 'D'\n",
    "                elif ord(character) == 32:\n",
    "                    mask = mask + 's'\n",
    "                else:\n",
    "                    mask = mask + character\n",
    "        return mask\n",
    "    value = series.apply(getMask).value_counts()\n",
    "    percentage = round(series.apply(getMask).value_counts(normalize=True)*100,2)\n",
    "    result = pd.DataFrame(value)\n",
    "    result['%'] = pd.DataFrame(percentage)\n",
    "    result.columns = ['Count','%']\n",
    "    return result"
   ]
  }
 ],
 "metadata": {
  "anaconda-cloud": {},
  "kernelspec": {
   "display_name": "Python [default]",
   "language": "python",
   "name": "python3"
  },
  "language_info": {
   "codemirror_mode": {
    "name": "ipython",
    "version": 3
   },
   "file_extension": ".py",
   "mimetype": "text/x-python",
   "name": "python",
   "nbconvert_exporter": "python",
   "pygments_lexer": "ipython3",
   "version": "3.5.2"
  }
 },
 "nbformat": 4,
 "nbformat_minor": 1
}
